{
 "cells": [
  {
   "cell_type": "code",
   "execution_count": 1,
   "metadata": {},
   "outputs": [],
   "source": [
    "import pandas as pd\n",
    "from sklearn.svm import SVC\n",
    "from sklearn.linear_model import LogisticRegression\n",
    "from sklearn.model_selection import train_test_split\n",
    "from sklearn.metrics import accuracy_score, confusion_matrix"
   ]
  },
  {
   "cell_type": "code",
   "execution_count": 2,
   "metadata": {},
   "outputs": [
    {
     "name": "stdout",
     "output_type": "stream",
     "text": [
      "    b   g    r  skin\n",
      "0  77  88  126     1\n",
      "1  80  88  128     1\n",
      "2  78  86  126     1\n",
      "3  82  90  130     1\n",
      "4  79  87  127     1\n"
     ]
    }
   ],
   "source": [
    "df = pd.read_csv('Skin_nonSkin_small.txt', names=['b','g','r','skin'], delimiter='\\t')\n",
    "print(df.head())"
   ]
  },
  {
   "cell_type": "code",
   "execution_count": 3,
   "metadata": {},
   "outputs": [],
   "source": [
    "X = df.drop(columns='skin')\n",
    "y = df['skin']\n",
    "X_train,X_test,y_train,y_test = train_test_split(X, y, test_size=0.3)"
   ]
  },
  {
   "cell_type": "code",
   "execution_count": 4,
   "metadata": {},
   "outputs": [
    {
     "name": "stdout",
     "output_type": "stream",
     "text": [
      "[[1253  264]\n",
      " [ 329 5541]]\n",
      "0.9197238391769325\n"
     ]
    }
   ],
   "source": [
    "log_model = LogisticRegression()\n",
    "log_model.fit(X_train, y_train)\n",
    "log_preds = log_model.predict(X_test)\n",
    "print(confusion_matrix(y_test, log_preds))\n",
    "print(accuracy_score(y_test, log_preds))"
   ]
  },
  {
   "cell_type": "code",
   "execution_count": 5,
   "metadata": {},
   "outputs": [
    {
     "name": "stdout",
     "output_type": "stream",
     "text": [
      "[[1253  264]\n",
      " [ 329 5541]]\n",
      "0.9197238391769325\n"
     ]
    }
   ],
   "source": [
    "svm_model = SVC(kernel='poly')\n",
    "svm_model.fit(X_train, y_train)\n",
    "svm_preds = log_model.predict(X_test)\n",
    "print(confusion_matrix(y_test, svm_preds))\n",
    "print(accuracy_score(y_test, svm_preds))"
   ]
  },
  {
   "cell_type": "code",
   "execution_count": 6,
   "metadata": {},
   "outputs": [
    {
     "name": "stdout",
     "output_type": "stream",
     "text": [
      "[[1253  264]\n",
      " [ 329 5541]]\n",
      "0.9197238391769325\n"
     ]
    }
   ],
   "source": [
    "svm_model = SVC(kernel='rbf')\n",
    "svm_model.fit(X_train, y_train)\n",
    "svm_preds = log_model.predict(X_test)\n",
    "print(confusion_matrix(y_test, svm_preds))\n",
    "print(accuracy_score(y_test, svm_preds))"
   ]
  },
  {
   "cell_type": "code",
   "execution_count": null,
   "metadata": {},
   "outputs": [],
   "source": [
    "svm_model = SVC(kernel='linear')\n",
    "svm_model.fit(X_train, y_train)\n",
    "svm_preds = log_model.predict(X_test)\n",
    "print(confusion_matrix(y_test, svm_preds))\n",
    "print(accuracy_score(y_test, svm_preds))"
   ]
  }
 ],
 "metadata": {
  "kernelspec": {
   "display_name": "Python 3",
   "language": "python",
   "name": "python3"
  },
  "language_info": {
   "codemirror_mode": {
    "name": "ipython",
    "version": 3
   },
   "file_extension": ".py",
   "mimetype": "text/x-python",
   "name": "python",
   "nbconvert_exporter": "python",
   "pygments_lexer": "ipython3",
   "version": "3.12.9"
  }
 },
 "nbformat": 4,
 "nbformat_minor": 2
}
